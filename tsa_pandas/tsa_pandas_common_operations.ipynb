{
 "cells": [
  {
   "cell_type": "code",
   "execution_count": null,
   "id": "4be2a570",
   "metadata": {},
   "outputs": [],
   "source": [
    "import pandas as pd"
   ]
  },
  {
   "cell_type": "code",
   "execution_count": null,
   "id": "e28469a9",
   "metadata": {},
   "outputs": [],
   "source": [
    "# create a DataFrame df\n",
    "df = pd.DataFrame({'col1':[1,2,3,4],'col2':[444,555,666,444],'col3':['abc','def','ghi','xyz']})\n",
    "df.head()"
   ]
  },
  {
   "cell_type": "code",
   "execution_count": null,
   "id": "9a314d7f",
   "metadata": {},
   "outputs": [],
   "source": [
    "# to figure out a column's unique values\n",
    "df['col2'].unique()"
   ]
  },
  {
   "cell_type": "code",
   "execution_count": null,
   "id": "436a6af0",
   "metadata": {},
   "outputs": [],
   "source": [
    "# to figure out the count of a column's unique values\n",
    "len(df['col2'].unique())"
   ]
  },
  {
   "cell_type": "code",
   "execution_count": null,
   "id": "317f2438",
   "metadata": {},
   "outputs": [],
   "source": [
    "# to figure out the count of each value in a column\n",
    "df['col2'].value_counts()"
   ]
  },
  {
   "cell_type": "code",
   "execution_count": null,
   "id": "a28fda31",
   "metadata": {},
   "outputs": [],
   "source": [
    "# conditional selection\n",
    "df2 = df[(df['col1'] > 2) & (df['col2'] == 444)]\n",
    "df2"
   ]
  },
  {
   "cell_type": "code",
   "execution_count": null,
   "id": "e8938aa6",
   "metadata": {},
   "outputs": [],
   "source": [
    "df"
   ]
  },
  {
   "cell_type": "code",
   "execution_count": null,
   "id": "a6a5125a",
   "metadata": {},
   "outputs": [],
   "source": [
    "# define a function\n",
    "def times_two(number):\n",
    "    return number * 2"
   ]
  },
  {
   "cell_type": "code",
   "execution_count": null,
   "id": "455e42e4",
   "metadata": {},
   "outputs": [],
   "source": [
    "times_two(4)"
   ]
  },
  {
   "cell_type": "code",
   "execution_count": null,
   "id": "40cb1659",
   "metadata": {},
   "outputs": [],
   "source": [
    "# multiplying col1 elements by 2\n",
    "df['new_col1'] = df['col1'].apply(times_two)"
   ]
  },
  {
   "cell_type": "code",
   "execution_count": null,
   "id": "1df54693",
   "metadata": {},
   "outputs": [],
   "source": [
    "df"
   ]
  },
  {
   "cell_type": "code",
   "execution_count": null,
   "id": "20ee6a03",
   "metadata": {},
   "outputs": [],
   "source": [
    "# to delete the new_col1\n",
    "del df['new_col1']"
   ]
  },
  {
   "cell_type": "code",
   "execution_count": null,
   "id": "17b87d8a",
   "metadata": {},
   "outputs": [],
   "source": [
    "df"
   ]
  },
  {
   "cell_type": "code",
   "execution_count": null,
   "id": "b348b029",
   "metadata": {},
   "outputs": [],
   "source": [
    "# to return the column labels of df\n",
    "df.columns"
   ]
  },
  {
   "cell_type": "code",
   "execution_count": null,
   "id": "5515a2cd",
   "metadata": {},
   "outputs": [],
   "source": [
    "# to get the index (row labels) of the DataFrame df\n",
    "df.index"
   ]
  },
  {
   "cell_type": "code",
   "execution_count": null,
   "id": "638cd8a9",
   "metadata": {},
   "outputs": [],
   "source": [
    "# to get a concise summary of the dataframe including the index dtype and columns, non-null values and memory usage.\n",
    "df.info()"
   ]
  },
  {
   "cell_type": "code",
   "execution_count": null,
   "id": "1e9713b7",
   "metadata": {},
   "outputs": [],
   "source": [
    "# to view some basic statistical details like percentile, mean, std etc\n",
    "df.describe()"
   ]
  },
  {
   "cell_type": "code",
   "execution_count": null,
   "id": "76e980d1",
   "metadata": {},
   "outputs": [],
   "source": [
    "# sort_values() function sorts a data frame in Ascending or Descending order of passed Column\n",
    "# Asecending is the defualt\n",
    "df.sort_values('col2')"
   ]
  },
  {
   "cell_type": "code",
   "execution_count": null,
   "id": "1e20880a",
   "metadata": {},
   "outputs": [],
   "source": [
    "# to sort_values in a descending way\n",
    "df.sort_values('col2', ascending = False)"
   ]
  },
  {
   "cell_type": "code",
   "execution_count": null,
   "id": "4284e927",
   "metadata": {},
   "outputs": [],
   "source": []
  }
 ],
 "metadata": {
  "kernelspec": {
   "display_name": "Python 3 (ipykernel)",
   "language": "python",
   "name": "python3"
  },
  "language_info": {
   "codemirror_mode": {
    "name": "ipython",
    "version": 3
   },
   "file_extension": ".py",
   "mimetype": "text/x-python",
   "name": "python",
   "nbconvert_exporter": "python",
   "pygments_lexer": "ipython3",
   "version": "3.7.2"
  }
 },
 "nbformat": 4,
 "nbformat_minor": 5
}
